{
 "cells": [
  {
   "cell_type": "markdown",
   "id": "585ee000",
   "metadata": {},
   "source": [
    "# Assessment\n",
    "\n",
    "Conceptionally an Assessment in ALADIN consists out of seperate parts. These parts are:\n",
    "\n",
    "- Assessment Type,\n",
    "- Assessment Solutions,\n",
    "- Assessment Hints,\n",
    "- Assessment Instructions and Assessment Design.\n",
    "\n",
    "An Assessment Type is a composition of individual [Assessment Generator functions](../ALADIN/ALADIN.md#assessment-generator) in a set configuration. ALADIN provides a set of already defined [Assessment Generator functions](../ALADIN/ALADIN.md#assessment-generator), but also the ability to provide custom code."
   ]
  }
 ],
 "metadata": {
  "jupytext": {
   "text_representation": {
    "extension": ".md",
    "format_name": "myst",
    "format_version": "0.8",
    "jupytext_version": "1.4.1"
   }
  },
  "kernelspec": {
   "display_name": "Python 3",
   "name": "python3"
  },
  "language_info": {
   "codemirror_mode": {
    "name": "ipython",
    "version": 3
   },
   "file_extension": ".py",
   "mimetype": "text/x-python",
   "name": "python",
   "nbconvert_exporter": "python",
   "pygments_lexer": "ipython3",
   "version": "3.11.2"
  },
  "source_map": [
   12
  ]
 },
 "nbformat": 4,
 "nbformat_minor": 5
}