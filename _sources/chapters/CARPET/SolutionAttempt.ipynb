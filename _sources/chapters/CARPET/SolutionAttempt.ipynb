{
 "cells": [
  {
   "cell_type": "markdown",
   "id": "a8d730b5",
   "metadata": {},
   "source": [
    "# Solution Attempt\n",
    "\n",
    "CARPET allows the recording of a solution attempt of an Assessment Instance by the learner within the associated Assessment Design, including all interactions.\n",
    "\n",
    "The recording of the solution attempt is done by CARPeT automatically, as each Assessment Item is\n",
    "\n",
    "The recording of the solution attempt is done by the Assessment Design Items itself, which is responsible not only for the presentation of the Assessment Instance to the learner, but also the recording of the solution attempt.\n",
    "\n",
    "## 4R Principle"
   ]
  }
 ],
 "metadata": {
  "jupytext": {
   "text_representation": {
    "extension": ".md",
    "format_name": "myst",
    "format_version": "0.8",
    "jupytext_version": "1.4.1"
   }
  },
  "kernelspec": {
   "display_name": "Python 3",
   "name": "python3"
  },
  "language_info": {
   "codemirror_mode": {
    "name": "ipython",
    "version": 3
   },
   "file_extension": ".py",
   "mimetype": "text/x-python",
   "name": "python",
   "nbconvert_exporter": "python",
   "pygments_lexer": "ipython3",
   "version": "3.11.4"
  },
  "source_map": [
   12
  ]
 },
 "nbformat": 4,
 "nbformat_minor": 5
}