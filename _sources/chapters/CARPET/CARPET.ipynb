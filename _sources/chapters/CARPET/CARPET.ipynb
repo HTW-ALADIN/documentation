{
 "cells": [
  {
   "cell_type": "markdown",
   "id": "e5675624",
   "metadata": {},
   "source": [
    "# CARPeT\n",
    "\n",
    "Graphical Assessment Interpretation Engine and Solution Attempt Tracker\n",
    "graphiCal Assessment interPretation engine and solution attemPt Tracker\n",
    "\n",
    "learning analytics"
   ]
  }
 ],
 "metadata": {
  "jupytext": {
   "text_representation": {
    "extension": ".md",
    "format_name": "myst",
    "format_version": "0.8",
    "jupytext_version": "1.4.1"
   }
  },
  "kernelspec": {
   "display_name": "Python 3",
   "name": "python3"
  },
  "language_info": {
   "codemirror_mode": {
    "name": "ipython",
    "version": 3
   },
   "file_extension": ".py",
   "mimetype": "text/x-python",
   "name": "python",
   "nbconvert_exporter": "python",
   "pygments_lexer": "ipython3",
   "version": "3.11.2"
  },
  "source_map": [
   12
  ]
 },
 "nbformat": 4,
 "nbformat_minor": 5
}