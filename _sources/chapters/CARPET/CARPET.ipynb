{
 "cells": [
  {
   "cell_type": "markdown",
   "id": "1a2c1546",
   "metadata": {},
   "source": [
    "# CARPET\n",
    "\n",
    "CARPET (Graphi**c**al **A**ssessment Inte**rp**retation **E**ngine and Solution Attempt **T**racker)\n",
    "\n",
    "## Assessment\n",
    "\n",
    "An Assessment comprises of an Assessment Design or Assessment Instruction and a Task Data Generator.\n",
    "\n",
    "## Assessment Runtime\n",
    "\n",
    "The Assessment Runtime is the runtime environment of the Assessment Design. It is responsible for the execution of the Assessment Design and the recording of the solution attempt.\n",
    "\n",
    "## Assessment Instruction|Design\n",
    "\n",
    "An Assessment Design\n",
    "\n",
    "## Assessment Item\n",
    "\n",
    "An Assessment Item is a UI-component that encapsulates any Assessment funcion, e.g. Task Data representation or Task Functionality."
   ]
  }
 ],
 "metadata": {
  "jupytext": {
   "text_representation": {
    "extension": ".md",
    "format_name": "myst",
    "format_version": "0.8",
    "jupytext_version": "1.4.1"
   }
  },
  "kernelspec": {
   "display_name": "Python 3",
   "name": "python3"
  },
  "language_info": {
   "codemirror_mode": {
    "name": "ipython",
    "version": 3
   },
   "file_extension": ".py",
   "mimetype": "text/x-python",
   "name": "python",
   "nbconvert_exporter": "python",
   "pygments_lexer": "ipython3",
   "version": "3.11.3"
  },
  "source_map": [
   12
  ]
 },
 "nbformat": 4,
 "nbformat_minor": 5
}