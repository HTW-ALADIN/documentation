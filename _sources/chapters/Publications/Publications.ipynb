{
 "cells": [
  {
   "cell_type": "markdown",
   "id": "90f6d014",
   "metadata": {},
   "source": [
    "# Publications\n",
    "\n",
    "## Papers\n",
    "\n",
    "- Munktelt, T., Christ, P. (2022). ALADIN II Generator für Aufgaben und Lösung(shilf)en aus der Informatik und agrenzenden Disziplinen II. In: Workshop on e-Learning, 20. Zittau Görlitz. (S.69-78) ISBN: [978-3-941521-33-9](https://zfe.hszg.de/fileadmin/NEU/Redaktion-Zfe/Dateien/wel/wel22/Tagungsband_WeL22.pdf) [PDF](https://www.researchgate.net/publication/369120710_ALADIN_II_-GENERATOR_FUR_AUFGABEN_DISZIPLINEN_II)\n",
    "- Christ, P., Laue, R. & Munkelt, T., (2022). ALADIN – Generator für Aufgaben und Lösung(shilf)en aus der Informatik und angrenzenden Disziplinen. In: Modellierung 2022 Satellite Events. Bonn: Gesellschaft für Informatik e.V.. (S. 205-212). DOI: [10.18420/modellierung2022ws-028](https://dl.gi.de/handle/20.500.12116/38791); [PDF](https://dl.gi.de/bitstream/handle/20.500.12116/38791/paper21.pdf?sequence=1&isAllowed=y)\n",
    "\n",
    "## Talks\n",
    "\n",
    "- Christ, P., Munkelt, T. (2023). Von ALADIN zu OPALADIN - Generator von Aufgaben und Lösung(shilf)en aus verschiedenen Disziplinen in OPAL. In: Netzwerktreffen Mathematik/Physik und E-Learning, 20. Dresden. DOI: [10.13140/RG.2.2.34994.48320](https://www.researchgate.net/publication/369132570_Von_ALADIN_zu_OPALADIN_-_Generator_von_Aufgaben_und_Losungshilfen_aus_verschiedenen_Disziplinen_in_OPAL) [PDF](https://www.researchgate.net/publication/369132570_Von_ALADIN_zu_OPALADIN_-_Generator_von_Aufgaben_und_Losungshilfen_aus_verschiedenen_Disziplinen_in_OPAL)\n",
    "\n",
    "- Christ, P. (2023). Generation of Meaningful SQL-Query Exercises Using Large Language Models and Knowledge Graphs. In: Colloquim Master Thesis. Darmstadt. DOI: [10.13140/RG.2.2.23565.00483](https://www.researchgate.net/publication/369135294_Generation_of_Meaningful_SQL-Query_Exercises_Using_Large_Language_Models_and_Knowledge_Graphs) [PDF](https://www.researchgate.net/publication/369135294_Generation_of_Meaningful_SQL-Query_Exercises_Using_Large_Language_Models_and_Knowledge_Graphs)\n",
    "\n",
    "- Christ, P., Munkelt, T. (2022). ALADIN: Generator für Aufgaben und Lösung(shilf)en aus der Informatik und angrenzenden Disziplinen. In: HDS.Forum & DHS.Fachtag - Digitalisierung der Hochschulbildung in Sachsen. DOI: [10.13140/RG.2.2.13184.10242](https://www.researchgate.net/publication/369130578_ALADIN_Generator_fur_Aufgaben_und_Losungshilfen_aus_der_Informatik_und_angrenzenden_Disziplinen) [PDF](https://www.researchgate.net/publication/369130578_ALADIN_Generator_fur_Aufgaben_und_Losungshilfen_aus_der_Informatik_und_angrenzenden_Disziplinen)\n",
    "\n",
    "- Christ, P., Munkelt, T. (2022). ALADIN: Generator für Aufgaben und Lösung(shilf)en aus der Informatik und angrenzenden Disziplinen. In: HDS.Forum & DHS.Fachtag - Digitalisierung der Hochschulbildung in Sachsen. DOI: [10.13140/RG.2.2.19894.98882](https://www.researchgate.net/publication/369123545_ALADIN_-_Generator_fur_Aufgaben_und_Losungshilfen_aus_der_Informatik_und_angrenzenden_Disziplinen) [PDF](https://www.researchgate.net/publication/369123545_ALADIN_-_Generator_fur_Aufgaben_und_Losungshilfen_aus_der_Informatik_und_angrenzenden_Disziplinen)\n",
    "\n",
    "- Christ, P., Munkelt, T. (2022). ALADIN: Generator für Aufgaben und Lösung(shilf)en aus der Informatik und angrenzenden Disziplinen. In: Dresdner Datenbankforum. Dresden. DOI: [10.13140/RG.2.2.16539.54562](https://www.researchgate.net/publication/369123657_ALADIN_Generator_fur_SQL-Aufgaben_und_Losungshilfen_-von_der_Syntaktik_zur_Semantik) [PDF](https://www.researchgate.net/publication/369123657_ALADIN_Generator_fur_SQL-Aufgaben_und_Losungshilfen_-von_der_Syntaktik_zur_Semantik)\n",
    "\n",
    "- Munkelt, T., Christ, P. (2022). ALADIN: Generator für Aufgaben und Lösung(shilf)en aus der Informatik und angrenzenden Disziplinen. In: Didaktische Stulle 15. Dresden. DOI: [10.13140/RG.2.2.29961.31843](https://www.researchgate.net/publication/369131860_ALADIN_-_Generator_fur_Aufgaben_und_Losungshilfen_aus_der_Informatik_und_angrenzenden_Disziplinen) [PDF](https://www.researchgate.net/publication/369131860_ALADIN_-_Generator_fur_Aufgaben_und_Losungshilfen_aus_der_Informatik_und_angrenzenden_Disziplinen)"
   ]
  }
 ],
 "metadata": {
  "jupytext": {
   "text_representation": {
    "extension": ".md",
    "format_name": "myst",
    "format_version": "0.8",
    "jupytext_version": "1.4.1"
   }
  },
  "kernelspec": {
   "display_name": "Python 3",
   "name": "python3"
  },
  "language_info": {
   "codemirror_mode": {
    "name": "ipython",
    "version": 3
   },
   "file_extension": ".py",
   "mimetype": "text/x-python",
   "name": "python",
   "nbconvert_exporter": "python",
   "pygments_lexer": "ipython3",
   "version": "3.11.2"
  },
  "source_map": [
   12
  ]
 },
 "nbformat": 4,
 "nbformat_minor": 5
}