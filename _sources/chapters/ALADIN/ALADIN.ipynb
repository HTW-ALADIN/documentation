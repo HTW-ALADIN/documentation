{
 "cells": [
  {
   "cell_type": "markdown",
   "id": "f3cca0a4",
   "metadata": {},
   "source": [
    "# ALADIN\n",
    "\n",
    "ALADIN ([**A**ssessment](./Intro/Glossary.md#assessment) and so**l**ution(-hint)s gener**a**tion framework in the fiel**d** of **I**nformatics and adjacent discipli**n**es) is a framework for declaratively defining and generating assessments and solutions for them. It was originally thought to be used in the context of computer science education, but is designed in a way that makes it independent of the subject matter domain.\n",
    "\n",
    "## Assessment Generator\n",
    "\n",
    "The Assessment Generator is a function, that can be thought of as an execution engine and takes in a configuration in the form of a directed graph of individual Assessment Generation functions to produce an Assessment according to that plan. Think SQL query plans, but for educational Assessment Generation<sup>[1](#sql-query-plan)</sup>. A distinct configuration of multiple Assessment Generation functions is called an [Assessment Type](../Assessments/AssessmentTypes.md).\n",
    "\n",
    "The Assessment Generator is the core of the ALADIN framework and is responsible for generating Assessment Instances of a given Assessment Type and their respective solutions and hints.\n",
    "\n",
    "### Execution Plan\n",
    "\n",
    "An execution plan can be thought of as a multistep computer program, which produces the desired output. In an execution plan, each node represents a computational operation or function and each edge represents the data flow between the nodes. The output of one node always acts as the input of another, where the last output in the data flow always produces the result of the execution plan.\n",
    "\n",
    "```{figure} ../../_static/images/recipe_execution_plan.jpg\n",
    "---\n",
    "scale: 100%\n",
    "align: center\n",
    "name: directive-fig\n",
    "---\n",
    "Here is my figure caption!\n",
    "```\n",
    "\n",
    "{numref}`Figure {number}: {name} <directive-fig>`\n",
    "\n",
    "A simple analogy of an execution plan is a recipe. A recipe is a set of instructions, which describe how to prepare a certain dish. Each instruction is a step in the recipe and the result of each step is the input for the next step. The last step in the recipe produces the desired dish.\n",
    "\n",
    "### Custom Nodes\n",
    "\n",
    "If the predefined nodes are insufficient to produce the desired output, custom nodes can be added to the execution plan. The inputs and outputs of a custom node are defined by the user. The custom node can then be used in the execution plan as any other node, aslong as its interface fits into the data flow of its adjacent nodes.\n",
    "\n",
    "## Assessment Generation Configuration"
   ]
  }
 ],
 "metadata": {
  "jupytext": {
   "text_representation": {
    "extension": ".md",
    "format_name": "myst",
    "format_version": "0.8",
    "jupytext_version": "1.4.1"
   }
  },
  "kernelspec": {
   "display_name": "Python 3",
   "name": "python3"
  },
  "language_info": {
   "codemirror_mode": {
    "name": "ipython",
    "version": 3
   },
   "file_extension": ".py",
   "mimetype": "text/x-python",
   "name": "python",
   "nbconvert_exporter": "python",
   "pygments_lexer": "ipython3",
   "version": "3.11.2"
  },
  "source_map": [
   12
  ]
 },
 "nbformat": 4,
 "nbformat_minor": 5
}