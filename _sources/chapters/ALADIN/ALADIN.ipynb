{
 "cells": [
  {
   "cell_type": "markdown",
   "id": "a8f8c81a",
   "metadata": {},
   "source": [
    "# Overview\n",
    "\n",
    "ALADIN ([T**a**sk](./Intro/Glossary.md#task) and so**l**ution(-hint)s gener**a**tion framework in the fiel**d** of **I**nformatics and adjacent discipli**n**es) is a framework for declaratively defining and generating tasks, solutions and solution-hints for them. It was originally thought to be used in the context of computer science education, but is designed in a way that makes it independent of the subject matter domain.\n",
    "\n",
    "```{figure} ../../_static/images/task_generator.jpg\n",
    "---\n",
    "scale: 100%\n",
    "align: center\n",
    "name: aladin-overview\n",
    "---\n",
    "Configuration of the Task Generator\n",
    "```\n",
    "\n",
    "## Task Data Generator\n",
    "\n",
    "The Task Data Generator is a function, that can be thought of as an execution engine and takes in a configuration in the form of a directed graph of individual Task Generation functions to produce Task Data according to that plan. Think SQL query plans, but for educational Task Data Generation<sup>[1](#execution-plan)</sup>. A distinct configuration of multiple Task Generation functions is called an [Task Type](../Tasks/TaskTypes.md).\n",
    "\n",
    "The Task Data Generator is the core of the ALADIN framework and is responsible for generating Task Instances of a given Task Type and their respective solutions and hints.\n",
    "\n",
    "### Execution Plan\n",
    "\n",
    "An execution plan can be thought of as a multistep computer program, which produces the desired output. In an execution plan, each node represents a computational operation or function and each edge represents the data flow between the nodes. The output of one node always acts as the input of another, where the last output in the data flow always produces the result of the execution plan.\n",
    "\n",
    "A simple analogy of an execution plan is a cooking recipe. A recipe is a set of instructions, which describe how to prepare a certain dish. Each instruction is a step in the recipe and the result of each step is the input for the next step. The last step in the recipe results in the desired dish. Such a recipe can be represented as a flow chart, as shown in {numref}`Figure {number}: {name} <cooking-recipe>`, where each cooking step is represented by a node and the ingredients by the data flow on the edges.\n",
    "\n",
    "```{figure} ../../_static/images/recipe_execution_plan.jpg\n",
    "---\n",
    "scale: 100%\n",
    "align: center\n",
    "name: cooking-recipe\n",
    "---\n",
    "Cooking recipe as a flow chart\n",
    "```\n",
    "\n",
    "### Custom Nodes\n",
    "\n",
    "If the predefined nodes are insufficient to produce the desired output, custom nodes can be added to the execution plan. The inputs and outputs of a custom node are defined by the user. The custom node can then be used in the execution plan as any other node, aslong as its interface fits into the data flow of its adjacent nodes."
   ]
  }
 ],
 "metadata": {
  "jupytext": {
   "text_representation": {
    "extension": ".md",
    "format_name": "myst",
    "format_version": "0.8",
    "jupytext_version": "1.4.1"
   }
  },
  "kernelspec": {
   "display_name": "Python 3",
   "name": "python3"
  },
  "language_info": {
   "codemirror_mode": {
    "name": "ipython",
    "version": 3
   },
   "file_extension": ".py",
   "mimetype": "text/x-python",
   "name": "python",
   "nbconvert_exporter": "python",
   "pygments_lexer": "ipython3",
   "version": "3.11.3"
  },
  "source_map": [
   12
  ]
 },
 "nbformat": 4,
 "nbformat_minor": 5
}