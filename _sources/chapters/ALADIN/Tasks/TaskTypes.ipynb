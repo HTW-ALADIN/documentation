{
 "cells": [
  {
   "cell_type": "markdown",
   "id": "c6a84c8e",
   "metadata": {},
   "source": [
    "# Task Type\n",
    "\n",
    "Task Types in ALADIN are structured as follows:\n",
    "\n",
    "## Subject Matter\n",
    "\n",
    "### Bill Of Materials (BOM) Explosion | Gozintograph\n",
    "\n",
    "### Dijkstra Algorithm"
   ]
  }
 ],
 "metadata": {
  "jupytext": {
   "text_representation": {
    "extension": ".md",
    "format_name": "myst",
    "format_version": "0.8",
    "jupytext_version": "1.4.1"
   }
  },
  "kernelspec": {
   "display_name": "Python 3",
   "name": "python3"
  },
  "language_info": {
   "codemirror_mode": {
    "name": "ipython",
    "version": 3
   },
   "file_extension": ".py",
   "mimetype": "text/x-python",
   "name": "python",
   "nbconvert_exporter": "python",
   "pygments_lexer": "ipython3",
   "version": "3.11.3"
  },
  "source_map": [
   12
  ]
 },
 "nbformat": 4,
 "nbformat_minor": 5
}