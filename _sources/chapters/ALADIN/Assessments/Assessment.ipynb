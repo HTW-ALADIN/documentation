{
 "cells": [
  {
   "cell_type": "markdown",
   "id": "07bc63d9",
   "metadata": {},
   "source": [
    "# Assessment\n",
    "\n",
    "Conceptionally an individual Assessment in ALADIN can be divided into **two** major parts. These parts are:\n",
    "\n",
    "- Assessment Type and\n",
    "- Assessment Instruction or Assessment Design.\n",
    "\n",
    "## Assessment Type\n",
    "\n",
    "An Assessment Type is a composition of individual [Assessment Generator functions](../ALADIN/ALADIN.md#assessment-generator) in a set configuration. As described in [the previous section](../ALADIN.md#assessment-generator) ALADIN provides a set of already defined functions, but also the ability to provide [custom code](../ALADIN.md#custom-nodes).\n",
    "\n",
    "```{important}\n",
    "The definition of an Assessment Type in ALADIN differs from the definition found in learning didactics.\n",
    "For more information on the didactic sense of Assessment Types, see [here](https://www.niu.edu/citl/resources/guides/instructional-guide/formative-and-summative-assessment.shtml).\n",
    "```\n",
    "\n",
    "### Assessment Instance\n",
    "\n",
    "An Assessment Instance is a concrete instance of an Assessment Type. It is the result of the execution of an Assessment Type by the Assessment Generator. It consists of a set of data relevant to the Assessment itself and a generated solution to the Assessment.\n",
    "Functions that require user input, such as the initial parametrization, validation functions and hint generators, can be thought of static functions that are tied to the Assessment Type and may require the Assessment Instance as a second argument.\n",
    "\n",
    "## Assessment Instruction|Design\n",
    "\n",
    "An Assessment Design"
   ]
  }
 ],
 "metadata": {
  "jupytext": {
   "text_representation": {
    "extension": ".md",
    "format_name": "myst",
    "format_version": "0.8",
    "jupytext_version": "1.4.1"
   }
  },
  "kernelspec": {
   "display_name": "Python 3",
   "name": "python3"
  },
  "language_info": {
   "codemirror_mode": {
    "name": "ipython",
    "version": 3
   },
   "file_extension": ".py",
   "mimetype": "text/x-python",
   "name": "python",
   "nbconvert_exporter": "python",
   "pygments_lexer": "ipython3",
   "version": "3.11.2"
  },
  "source_map": [
   12
  ]
 },
 "nbformat": 4,
 "nbformat_minor": 5
}