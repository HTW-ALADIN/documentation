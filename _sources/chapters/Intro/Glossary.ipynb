{
 "cells": [
  {
   "cell_type": "markdown",
   "id": "fe218077",
   "metadata": {},
   "source": [
    "# Glossary\n",
    "\n",
    "## ALADIN\n",
    "\n",
    "## Assessment\n",
    "\n",
    "## CARPET\n",
    "\n",
    "## DJINN\n",
    "\n",
    "## Instructional Design\n",
    "\n",
    "## Domain Specific Language (DSL)\n",
    "\n",
    "## JSON\n",
    "\n",
    "Javascript Object Notation\n",
    "\n",
    "## 4R-Principle\n",
    "\n",
    "Record, Redirect, Replay, Resume"
   ]
  }
 ],
 "metadata": {
  "jupytext": {
   "text_representation": {
    "extension": ".md",
    "format_name": "myst",
    "format_version": "0.8",
    "jupytext_version": "1.4.1"
   }
  },
  "kernelspec": {
   "display_name": "Python 3",
   "name": "python3"
  },
  "language_info": {
   "codemirror_mode": {
    "name": "ipython",
    "version": 3
   },
   "file_extension": ".py",
   "mimetype": "text/x-python",
   "name": "python",
   "nbconvert_exporter": "python",
   "pygments_lexer": "ipython3",
   "version": "3.11.2"
  },
  "source_map": [
   12
  ]
 },
 "nbformat": 4,
 "nbformat_minor": 5
}